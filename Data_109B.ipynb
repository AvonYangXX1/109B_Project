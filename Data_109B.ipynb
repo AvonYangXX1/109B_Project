{
 "cells": [
  {
   "cell_type": "code",
   "execution_count": 1,
   "metadata": {},
   "outputs": [
    {
     "name": "stdout",
     "output_type": "stream",
     "text": [
      "Requirement already satisfied: Bio in /Users/avonyang/anaconda3/envs/graphpath/lib/python3.11/site-packages (1.6.2)\n",
      "Requirement already satisfied: biopython>=1.80 in /Users/avonyang/anaconda3/envs/graphpath/lib/python3.11/site-packages (from Bio) (1.83)\n",
      "Requirement already satisfied: requests in /Users/avonyang/anaconda3/envs/graphpath/lib/python3.11/site-packages (from Bio) (2.31.0)\n",
      "Requirement already satisfied: tqdm in /Users/avonyang/anaconda3/envs/graphpath/lib/python3.11/site-packages (from Bio) (4.66.1)\n",
      "Requirement already satisfied: mygene in /Users/avonyang/anaconda3/envs/graphpath/lib/python3.11/site-packages (from Bio) (3.2.2)\n",
      "Requirement already satisfied: pandas in /Users/avonyang/anaconda3/envs/graphpath/lib/python3.11/site-packages (from Bio) (1.5.3)\n",
      "Requirement already satisfied: pooch in /Users/avonyang/anaconda3/envs/graphpath/lib/python3.11/site-packages (from Bio) (1.7.0)\n",
      "Requirement already satisfied: gprofiler-official in /Users/avonyang/anaconda3/envs/graphpath/lib/python3.11/site-packages (from Bio) (1.0.0)\n",
      "Requirement already satisfied: numpy in /Users/avonyang/anaconda3/envs/graphpath/lib/python3.11/site-packages (from biopython>=1.80->Bio) (1.26.3)\n",
      "Requirement already satisfied: biothings-client>=0.2.6 in /Users/avonyang/anaconda3/envs/graphpath/lib/python3.11/site-packages (from mygene->Bio) (0.3.1)\n",
      "Requirement already satisfied: python-dateutil>=2.8.1 in /Users/avonyang/anaconda3/envs/graphpath/lib/python3.11/site-packages (from pandas->Bio) (2.8.2)\n",
      "Requirement already satisfied: pytz>=2020.1 in /Users/avonyang/anaconda3/envs/graphpath/lib/python3.11/site-packages (from pandas->Bio) (2023.3.post1)\n",
      "Requirement already satisfied: platformdirs>=2.5.0 in /Users/avonyang/anaconda3/envs/graphpath/lib/python3.11/site-packages (from pooch->Bio) (3.10.0)\n",
      "Requirement already satisfied: packaging>=20.0 in /Users/avonyang/anaconda3/envs/graphpath/lib/python3.11/site-packages (from pooch->Bio) (23.1)\n",
      "Requirement already satisfied: charset-normalizer<4,>=2 in /Users/avonyang/anaconda3/envs/graphpath/lib/python3.11/site-packages (from requests->Bio) (2.0.4)\n",
      "Requirement already satisfied: idna<4,>=2.5 in /Users/avonyang/anaconda3/envs/graphpath/lib/python3.11/site-packages (from requests->Bio) (3.4)\n",
      "Requirement already satisfied: urllib3<3,>=1.21.1 in /Users/avonyang/anaconda3/envs/graphpath/lib/python3.11/site-packages (from requests->Bio) (1.26.18)\n",
      "Requirement already satisfied: certifi>=2017.4.17 in /Users/avonyang/anaconda3/envs/graphpath/lib/python3.11/site-packages (from requests->Bio) (2023.11.17)\n",
      "Requirement already satisfied: six>=1.5 in /Users/avonyang/anaconda3/envs/graphpath/lib/python3.11/site-packages (from python-dateutil>=2.8.1->pandas->Bio) (1.16.0)\n"
     ]
    }
   ],
   "source": [
    "import pandas as pd\n",
    "!pip install Bio\n",
    "from Bio import SeqIO\n",
    "from dataclasses import dataclass"
   ]
  },
  {
   "cell_type": "code",
   "execution_count": 2,
   "metadata": {},
   "outputs": [],
   "source": [
    "import pandas as pd\n",
    "import gffutils"
   ]
  },
  {
   "cell_type": "code",
   "execution_count": 26,
   "metadata": {},
   "outputs": [],
   "source": [
    "gff3_file_path = 'chr20.gff3'\n",
    "data = []\n",
    "with open(gff3_file_path, 'r') as file:\n",
    "    for line in file:\n",
    "        if line.startswith('#'):\n",
    "            continue\n",
    "        parts = line.strip().split('\\t')\n",
    "        if len(parts) == 9:\n",
    "            record = {\n",
    "                'seqid': parts[0],\n",
    "                'source': parts[1],\n",
    "                'type': parts[2],\n",
    "                'start': int(parts[3]),\n",
    "                'end': int(parts[4]),\n",
    "                'score': parts[5],\n",
    "                'strand': parts[6],\n",
    "                'phase': parts[7],\n",
    "                'attributes': parts[8]\n",
    "            }\n",
    "            data.append(record)\n",
    "df = pd.DataFrame(data)\n",
    "\n"
   ]
  },
  {
   "cell_type": "code",
   "execution_count": 27,
   "metadata": {},
   "outputs": [
    {
     "name": "stdout",
     "output_type": "stream",
     "text": [
      "   seqid  source        type  start    end score strand phase  \\\n",
      "0  chr20  HAVANA        gene  87250  97094     .      +     .   \n",
      "1  chr20  HAVANA  transcript  87250  97094     .      +     .   \n",
      "2  chr20  HAVANA        exon  87250  87359     .      +     .   \n",
      "3  chr20  HAVANA  transcript  87672  97094     .      +     .   \n",
      "4  chr20  HAVANA        exon  87672  87767     .      +     .   \n",
      "\n",
      "                                          attributes  \n",
      "0  ID=ENSG00000178591.7;gene_id=ENSG00000178591.7...  \n",
      "1  ID=ENST00000608838.1;Parent=ENSG00000178591.7;...  \n",
      "2  ID=exon:ENST00000608838.1:1;Parent=ENST0000060...  \n",
      "3  ID=ENST00000382410.3;Parent=ENSG00000178591.7;...  \n",
      "4  ID=exon:ENST00000382410.3:1;Parent=ENST0000038...  \n"
     ]
    }
   ],
   "source": [
    "print(df.head())"
   ]
  },
  {
   "cell_type": "code",
   "execution_count": 19,
   "metadata": {},
   "outputs": [
    {
     "name": "stdout",
     "output_type": "stream",
     "text": [
      "                  Parent  intron_count\n",
      "0      ENST00000262354.5             4\n",
      "1      ENST00000269844.5            30\n",
      "2      ENST00000270112.7            10\n",
      "3      ENST00000270139.8            10\n",
      "4     ENST00000270142.11             4\n",
      "...                  ...           ...\n",
      "3034   ENST00000684187.1             3\n",
      "3035   ENST00000684327.1             2\n",
      "3036   ENST00000684495.1             4\n",
      "3037   ENST00000684541.1             4\n",
      "3038   ENST00000684616.1             5\n",
      "\n",
      "[3039 rows x 2 columns]\n"
     ]
    },
    {
     "name": "stderr",
     "output_type": "stream",
     "text": [
      "/var/folders/29/v4zr4r5s4l70_h06s1694q1m0000gn/T/ipykernel_22731/1429390031.py:4: SettingWithCopyWarning: \n",
      "A value is trying to be set on a copy of a slice from a DataFrame.\n",
      "Try using .loc[row_indexer,col_indexer] = value instead\n",
      "\n",
      "See the caveats in the documentation: https://pandas.pydata.org/pandas-docs/stable/user_guide/indexing.html#returning-a-view-versus-a-copy\n",
      "  exon_df['Parent'] = exon_df['attributes'].apply(lambda x: x.split('Parent=')[1].split(';')[0])\n"
     ]
    }
   ],
   "source": [
    "exon_df = df[df['type'] == 'exon']\n",
    "\n",
    "exon_df['Parent'] = exon_df['attributes'].apply(lambda x: x.split('Parent=')[1].split(';')[0])\n",
    "\n",
    "# Group by Parent  \n",
    "intron_counts = exon_df.groupby('Parent').size().reset_index(name='count')\n",
    "intron_counts['intron_count'] = intron_counts['count'] - 1\n",
    "\n",
    "# intron_counts contains the number of introns for each Parent (transcript or gene)\n",
    "print(intron_counts[['Parent', 'intron_count']])"
   ]
  },
  {
   "cell_type": "code",
   "execution_count": 20,
   "metadata": {},
   "outputs": [
    {
     "data": {
      "text/plain": [
       "14932"
      ]
     },
     "execution_count": 20,
     "metadata": {},
     "output_type": "execute_result"
    }
   ],
   "source": [
    "intron_counts['intron_count'].sum()"
   ]
  },
  {
   "cell_type": "code",
   "execution_count": 28,
   "metadata": {},
   "outputs": [
    {
     "name": "stdout",
     "output_type": "stream",
     "text": [
      "False    36963\n",
      "True     34275\n",
      "Name: type, dtype: int64\n"
     ]
    },
    {
     "data": {
      "image/png": "[encoded data removed]",
      "text/plain": [
       "<Figure size 640x480 with 1 Axes>"
      ]
     },
     "metadata": {},
     "output_type": "display_data"
    }
   ],
   "source": [
    "import matplotlib.pyplot as plt\n",
    "type_counts = df['type'].value_counts()\n",
    "print((df['type']=='exon').value_counts())\n",
    "# Plot a histogram\n",
    "type_counts.plot(kind='bar')\n",
    "plt.title('Histogram of Chromosome21 Feature Types')\n",
    "plt.xlabel('Feature Type')\n",
    "plt.ylabel('Count')\n",
    "plt.xticks(rotation=45)\n",
    "plt.show()"
   ]
  },
  {
   "cell_type": "code",
   "execution_count": 23,
   "metadata": {},
   "outputs": [
    {
     "data": {
      "text/html": [
       "<div>\n",
       "<style scoped>\n",
       "    .dataframe tbody tr th:only-of-type {\n",
       "        vertical-align: middle;\n",
       "    }\n",
       "\n",
       "    .dataframe tbody tr th {\n",
       "        vertical-align: top;\n",
       "    }\n",
       "\n",
       "    .dataframe thead th {\n",
       "        text-align: right;\n",
       "    }\n",
       "</style>\n",
       "<table border=\"1\" class=\"dataframe\">\n",
       "  <thead>\n",
       "    <tr style=\"text-align: right;\">\n",
       "      <th></th>\n",
       "      <th>seqid</th>\n",
       "      <th>source</th>\n",
       "      <th>type</th>\n",
       "      <th>start</th>\n",
       "      <th>end</th>\n",
       "      <th>score</th>\n",
       "      <th>strand</th>\n",
       "      <th>phase</th>\n",
       "      <th>attributes</th>\n",
       "    </tr>\n",
       "  </thead>\n",
       "  <tbody>\n",
       "    <tr>\n",
       "      <th>0</th>\n",
       "      <td>chr21</td>\n",
       "      <td>HAVANA</td>\n",
       "      <td>gene</td>\n",
       "      <td>5011799</td>\n",
       "      <td>5017145</td>\n",
       "      <td>.</td>\n",
       "      <td>+</td>\n",
       "      <td>.</td>\n",
       "      <td>ID=ENSG00000279493.1;gene_id=ENSG00000279493.1...</td>\n",
       "    </tr>\n",
       "    <tr>\n",
       "      <th>1</th>\n",
       "      <td>chr21</td>\n",
       "      <td>HAVANA</td>\n",
       "      <td>transcript</td>\n",
       "      <td>5011799</td>\n",
       "      <td>5017145</td>\n",
       "      <td>.</td>\n",
       "      <td>+</td>\n",
       "      <td>.</td>\n",
       "      <td>ID=ENST00000624081.1;Parent=ENSG00000279493.1;...</td>\n",
       "    </tr>\n",
       "    <tr>\n",
       "      <th>2</th>\n",
       "      <td>chr21</td>\n",
       "      <td>HAVANA</td>\n",
       "      <td>exon</td>\n",
       "      <td>5011799</td>\n",
       "      <td>5011874</td>\n",
       "      <td>.</td>\n",
       "      <td>+</td>\n",
       "      <td>.</td>\n",
       "      <td>ID=exon:ENST00000624081.1:1;Parent=ENST0000062...</td>\n",
       "    </tr>\n",
       "    <tr>\n",
       "      <th>3</th>\n",
       "      <td>chr21</td>\n",
       "      <td>HAVANA</td>\n",
       "      <td>CDS</td>\n",
       "      <td>5011799</td>\n",
       "      <td>5011874</td>\n",
       "      <td>.</td>\n",
       "      <td>+</td>\n",
       "      <td>0</td>\n",
       "      <td>ID=CDS:ENST00000624081.1;Parent=ENST0000062408...</td>\n",
       "    </tr>\n",
       "    <tr>\n",
       "      <th>4</th>\n",
       "      <td>chr21</td>\n",
       "      <td>HAVANA</td>\n",
       "      <td>exon</td>\n",
       "      <td>5012548</td>\n",
       "      <td>5012687</td>\n",
       "      <td>.</td>\n",
       "      <td>+</td>\n",
       "      <td>.</td>\n",
       "      <td>ID=exon:ENST00000624081.1:2;Parent=ENST0000062...</td>\n",
       "    </tr>\n",
       "    <tr>\n",
       "      <th>...</th>\n",
       "      <td>...</td>\n",
       "      <td>...</td>\n",
       "      <td>...</td>\n",
       "      <td>...</td>\n",
       "      <td>...</td>\n",
       "      <td>...</td>\n",
       "      <td>...</td>\n",
       "      <td>...</td>\n",
       "      <td>...</td>\n",
       "    </tr>\n",
       "    <tr>\n",
       "      <th>35573</th>\n",
       "      <td>chr21</td>\n",
       "      <td>ENSEMBL</td>\n",
       "      <td>stop_codon</td>\n",
       "      <td>46664372</td>\n",
       "      <td>46664374</td>\n",
       "      <td>.</td>\n",
       "      <td>+</td>\n",
       "      <td>0</td>\n",
       "      <td>ID=stop_codon:ENST00000458387.6;Parent=ENST000...</td>\n",
       "    </tr>\n",
       "    <tr>\n",
       "      <th>35574</th>\n",
       "      <td>chr21</td>\n",
       "      <td>ENSEMBL</td>\n",
       "      <td>three_prime_UTR</td>\n",
       "      <td>46664375</td>\n",
       "      <td>46665117</td>\n",
       "      <td>.</td>\n",
       "      <td>+</td>\n",
       "      <td>.</td>\n",
       "      <td>ID=UTR3:ENST00000458387.6;Parent=ENST000004583...</td>\n",
       "    </tr>\n",
       "    <tr>\n",
       "      <th>35575</th>\n",
       "      <td>chr21</td>\n",
       "      <td>HAVANA</td>\n",
       "      <td>gene</td>\n",
       "      <td>46690764</td>\n",
       "      <td>46691226</td>\n",
       "      <td>.</td>\n",
       "      <td>+</td>\n",
       "      <td>.</td>\n",
       "      <td>ID=ENSG00000212932.3;gene_id=ENSG00000212932.3...</td>\n",
       "    </tr>\n",
       "    <tr>\n",
       "      <th>35576</th>\n",
       "      <td>chr21</td>\n",
       "      <td>HAVANA</td>\n",
       "      <td>transcript</td>\n",
       "      <td>46690764</td>\n",
       "      <td>46691226</td>\n",
       "      <td>.</td>\n",
       "      <td>+</td>\n",
       "      <td>.</td>\n",
       "      <td>ID=ENST00000427757.1;Parent=ENSG00000212932.3;...</td>\n",
       "    </tr>\n",
       "    <tr>\n",
       "      <th>35577</th>\n",
       "      <td>chr21</td>\n",
       "      <td>HAVANA</td>\n",
       "      <td>exon</td>\n",
       "      <td>46690764</td>\n",
       "      <td>46691226</td>\n",
       "      <td>.</td>\n",
       "      <td>+</td>\n",
       "      <td>.</td>\n",
       "      <td>ID=exon:ENST00000427757.1:1;Parent=ENST0000042...</td>\n",
       "    </tr>\n",
       "  </tbody>\n",
       "</table>\n",
       "<p>35578 rows × 9 columns</p>\n",
       "</div>"
      ],
      "text/plain": [
       "       seqid   source             type     start       end score strand phase  \\\n",
       "0      chr21   HAVANA             gene   5011799   5017145     .      +     .   \n",
       "1      chr21   HAVANA       transcript   5011799   5017145     .      +     .   \n",
       "2      chr21   HAVANA             exon   5011799   5011874     .      +     .   \n",
       "3      chr21   HAVANA              CDS   5011799   5011874     .      +     0   \n",
       "4      chr21   HAVANA             exon   5012548   5012687     .      +     .   \n",
       "...      ...      ...              ...       ...       ...   ...    ...   ...   \n",
       "35573  chr21  ENSEMBL       stop_codon  46664372  46664374     .      +     0   \n",
       "35574  chr21  ENSEMBL  three_prime_UTR  46664375  46665117     .      +     .   \n",
       "35575  chr21   HAVANA             gene  46690764  46691226     .      +     .   \n",
       "35576  chr21   HAVANA       transcript  46690764  46691226     .      +     .   \n",
       "35577  chr21   HAVANA             exon  46690764  46691226     .      +     .   \n",
       "\n",
       "                                              attributes  \n",
       "0      ID=ENSG00000279493.1;gene_id=ENSG00000279493.1...  \n",
       "1      ID=ENST00000624081.1;Parent=ENSG00000279493.1;...  \n",
       "2      ID=exon:ENST00000624081.1:1;Parent=ENST0000062...  \n",
       "3      ID=CDS:ENST00000624081.1;Parent=ENST0000062408...  \n",
       "4      ID=exon:ENST00000624081.1:2;Parent=ENST0000062...  \n",
       "...                                                  ...  \n",
       "35573  ID=stop_codon:ENST00000458387.6;Parent=ENST000...  \n",
       "35574  ID=UTR3:ENST00000458387.6;Parent=ENST000004583...  \n",
       "35575  ID=ENSG00000212932.3;gene_id=ENSG00000212932.3...  \n",
       "35576  ID=ENST00000427757.1;Parent=ENSG00000212932.3;...  \n",
       "35577  ID=exon:ENST00000427757.1:1;Parent=ENST0000042...  \n",
       "\n",
       "[35578 rows x 9 columns]"
      ]
     },
     "execution_count": 23,
     "metadata": {},
     "output_type": "execute_result"
    }
   ],
   "source": [
    "df"
   ]
  }
 ],
 "metadata": {
  "kernelspec": {
   "display_name": "graphpath",
   "language": "python",
   "name": "python3"
  },
  "language_info": {
   "codemirror_mode": {
    "name": "ipython",
    "version": 3
   },
   "file_extension": ".py",
   "mimetype": "text/x-python",
   "name": "python",
   "nbconvert_exporter": "python",
   "pygments_lexer": "ipython3",
   "version": "3.11.7"
  }
 },
 "nbformat": 4,
 "nbformat_minor": 2
}
